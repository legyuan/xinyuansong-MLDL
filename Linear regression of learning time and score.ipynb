{
 "cells": [
  {
   "cell_type": "code",
   "execution_count": 1,
   "id": "56c75f35",
   "metadata": {},
   "outputs": [],
   "source": [
    "#Data preprocessing\n",
    "##Load Data\n",
    "import numpy as np\n",
    "import pandas as pd"
   ]
  },
  {
   "cell_type": "code",
   "execution_count": 2,
   "id": "76359c52",
   "metadata": {},
   "outputs": [],
   "source": [
    "data = pd.read_csv(\"student_scores[1].csv\")"
   ]
  },
  {
   "cell_type": "code",
   "execution_count": 3,
   "id": "3bbd1d6b",
   "metadata": {},
   "outputs": [],
   "source": [
    "data = data[['Hours', 'Scores']].values"
   ]
  },
  {
   "cell_type": "code",
   "execution_count": 4,
   "id": "ffb3043d",
   "metadata": {},
   "outputs": [],
   "source": [
    "##Split Data:Train data,Test Data\n",
    "train_len = 20\n",
    "train_idxs = np.random.choice(len(data), train_len, replace=False)"
   ]
  },
  {
   "cell_type": "code",
   "execution_count": 5,
   "id": "15bfd8b0",
   "metadata": {},
   "outputs": [
    {
     "data": {
      "text/plain": [
       "array([ 0,  6, 12,  8, 16, 13, 23, 10,  5, 11,  7,  9, 21, 18,  4,  3, 15,\n",
       "        1, 14, 22])"
      ]
     },
     "execution_count": 5,
     "metadata": {},
     "output_type": "execute_result"
    }
   ],
   "source": [
    "train_idxs"
   ]
  },
  {
   "cell_type": "code",
   "execution_count": 6,
   "id": "70e59cb3",
   "metadata": {},
   "outputs": [],
   "source": [
    "train_data = data[train_idxs]"
   ]
  },
  {
   "cell_type": "code",
   "execution_count": 7,
   "id": "35cd18d7",
   "metadata": {},
   "outputs": [
    {
     "data": {
      "text/plain": [
       "array([[ 2.5, 21. ],\n",
       "       [ 9.2, 88. ],\n",
       "       [ 4.5, 41. ],\n",
       "       [ 8.3, 81. ],\n",
       "       [ 2.5, 30. ],\n",
       "       [ 3.3, 42. ],\n",
       "       [ 6.9, 76. ],\n",
       "       [ 7.7, 85. ],\n",
       "       [ 1.5, 20. ],\n",
       "       [ 5.9, 62. ],\n",
       "       [ 5.5, 60. ],\n",
       "       [ 2.7, 25. ],\n",
       "       [ 4.8, 54. ],\n",
       "       [ 6.1, 67. ],\n",
       "       [ 3.5, 30. ],\n",
       "       [ 8.5, 75. ],\n",
       "       [ 8.9, 95. ],\n",
       "       [ 5.1, 47. ],\n",
       "       [ 1.1, 17. ],\n",
       "       [ 3.8, 35. ]])"
      ]
     },
     "execution_count": 7,
     "metadata": {},
     "output_type": "execute_result"
    }
   ],
   "source": [
    "train_data"
   ]
  },
  {
   "cell_type": "code",
   "execution_count": 8,
   "id": "7835dc6e",
   "metadata": {},
   "outputs": [],
   "source": [
    "test_idxs = [idx for idx in range(len(data)) if idx not in train_idxs]"
   ]
  },
  {
   "cell_type": "code",
   "execution_count": 9,
   "id": "e5153f46",
   "metadata": {},
   "outputs": [
    {
     "data": {
      "text/plain": [
       "[2, 17, 19, 20, 24]"
      ]
     },
     "execution_count": 9,
     "metadata": {},
     "output_type": "execute_result"
    }
   ],
   "source": [
    "test_idxs"
   ]
  },
  {
   "cell_type": "code",
   "execution_count": 10,
   "id": "60cde059",
   "metadata": {},
   "outputs": [],
   "source": [
    "test_data = data[test_idxs]"
   ]
  },
  {
   "cell_type": "code",
   "execution_count": 11,
   "id": "e0d778e5",
   "metadata": {},
   "outputs": [
    {
     "data": {
      "text/plain": [
       "array([[ 3.2, 27. ],\n",
       "       [ 1.9, 24. ],\n",
       "       [ 7.4, 69. ],\n",
       "       [ 2.7, 30. ],\n",
       "       [ 7.8, 86. ]])"
      ]
     },
     "execution_count": 11,
     "metadata": {},
     "output_type": "execute_result"
    }
   ],
   "source": [
    "test_data"
   ]
  },
  {
   "cell_type": "code",
   "execution_count": 12,
   "id": "2621cc65",
   "metadata": {},
   "outputs": [],
   "source": [
    "#Model Construction\n",
    "##Linear Regression\n",
    "from sklearn.linear_model import LinearRegression"
   ]
  },
  {
   "cell_type": "code",
   "execution_count": 13,
   "id": "a17f2c48",
   "metadata": {},
   "outputs": [],
   "source": [
    "model_lr = LinearRegression(fit_intercept=True) # Loss function is fixed to MSE."
   ]
  },
  {
   "cell_type": "code",
   "execution_count": 14,
   "id": "8c6df13d",
   "metadata": {},
   "outputs": [],
   "source": [
    "##DecisionTree\n",
    "from sklearn.tree import DecisionTreeRegressor"
   ]
  },
  {
   "cell_type": "code",
   "execution_count": 15,
   "id": "d23516f3",
   "metadata": {},
   "outputs": [],
   "source": [
    "model_dt = DecisionTreeRegressor(#criterion='squared_error', # latest version {“squared_error”, “absolute_error”, ...}\n",
    "                                 criterion='mse', # v=0.24 {“mse”, “mae”, ...}\n",
    "                                 splitter='best', # {“best”, “random”}\n",
    "                                 max_depth=2,\n",
    "                                 random_state=0)"
   ]
  },
  {
   "cell_type": "code",
   "execution_count": 16,
   "id": "9f705029",
   "metadata": {},
   "outputs": [],
   "source": [
    "##Set Loss Function\n",
    "def mse_loss(pre, y):\n",
    "    return ((pre-y)**2).mean()"
   ]
  },
  {
   "cell_type": "code",
   "execution_count": 37,
   "id": "c78e7af1",
   "metadata": {},
   "outputs": [],
   "source": [
    "#Split Data:Train data,Validation data\n",
    "train_len = 20\n",
    "train_idxs = np.random.choice(len(train_data), train_len, replace=False)"
   ]
  },
  {
   "cell_type": "code",
   "execution_count": 18,
   "id": "24f848b8",
   "metadata": {},
   "outputs": [],
   "source": [
    "val_idxs = [idx for idx in range(len(train_data)) if idx not in train_idxs]"
   ]
  },
  {
   "cell_type": "code",
   "execution_count": 19,
   "id": "880f4c39",
   "metadata": {},
   "outputs": [],
   "source": [
    "val_data = train_data[val_idxs]"
   ]
  },
  {
   "cell_type": "code",
   "execution_count": 20,
   "id": "12f18a0e",
   "metadata": {},
   "outputs": [],
   "source": [
    "train_data = train_data[train_idxs]"
   ]
  },
  {
   "cell_type": "code",
   "execution_count": 21,
   "id": "736f0f13",
   "metadata": {},
   "outputs": [],
   "source": [
    "##Train and Validte\n",
    "models = [model_lr, model_dt]"
   ]
  },
  {
   "cell_type": "code",
   "execution_count": 28,
   "id": "5ab02f21",
   "metadata": {},
   "outputs": [
    {
     "name": "stdout",
     "output_type": "stream",
     "text": [
      "(20, 1) (20,)\n"
     ]
    }
   ],
   "source": [
    "##Train\n",
    "x = train_data[:, 0:1]\n",
    "y = train_data[:, 1]\n",
    "\n",
    "print(x.shape, y.shape)"
   ]
  },
  {
   "cell_type": "code",
   "execution_count": 31,
   "id": "f21af7a9",
   "metadata": {},
   "outputs": [],
   "source": [
    "import matplotlib.pyplot as plt\n",
    "import seaborn as sns\n",
    "from sklearn.model_selection import train_test_split\n",
    "from sklearn.linear_model import LinearRegression\n",
    "import matplotlib.pyplot as plt\n",
    "##Input data files are available in the read-only \"../input/\" directory\n",
    "##For example, running this (by clicking run or pressing Shift+Enter) will list all files under the input directory\n",
    "\n",
    "import os\n",
    "for dirname, _, filenames in os.walk('/kaggle/input'):\n",
    "    for filename in filenames:\n",
    "        print(os.path.join(dirname, filename))"
   ]
  },
  {
   "cell_type": "code",
   "execution_count": 32,
   "id": "b542bdd9",
   "metadata": {},
   "outputs": [
    {
     "data": {
      "text/html": [
       "<div>\n",
       "<style scoped>\n",
       "    .dataframe tbody tr th:only-of-type {\n",
       "        vertical-align: middle;\n",
       "    }\n",
       "\n",
       "    .dataframe tbody tr th {\n",
       "        vertical-align: top;\n",
       "    }\n",
       "\n",
       "    .dataframe thead th {\n",
       "        text-align: right;\n",
       "    }\n",
       "</style>\n",
       "<table border=\"1\" class=\"dataframe\">\n",
       "  <thead>\n",
       "    <tr style=\"text-align: right;\">\n",
       "      <th></th>\n",
       "      <th>Hours</th>\n",
       "      <th>Scores</th>\n",
       "    </tr>\n",
       "  </thead>\n",
       "  <tbody>\n",
       "    <tr>\n",
       "      <th>0</th>\n",
       "      <td>2.5</td>\n",
       "      <td>21</td>\n",
       "    </tr>\n",
       "    <tr>\n",
       "      <th>1</th>\n",
       "      <td>5.1</td>\n",
       "      <td>47</td>\n",
       "    </tr>\n",
       "    <tr>\n",
       "      <th>2</th>\n",
       "      <td>3.2</td>\n",
       "      <td>27</td>\n",
       "    </tr>\n",
       "    <tr>\n",
       "      <th>3</th>\n",
       "      <td>8.5</td>\n",
       "      <td>75</td>\n",
       "    </tr>\n",
       "    <tr>\n",
       "      <th>4</th>\n",
       "      <td>3.5</td>\n",
       "      <td>30</td>\n",
       "    </tr>\n",
       "    <tr>\n",
       "      <th>5</th>\n",
       "      <td>1.5</td>\n",
       "      <td>20</td>\n",
       "    </tr>\n",
       "    <tr>\n",
       "      <th>6</th>\n",
       "      <td>9.2</td>\n",
       "      <td>88</td>\n",
       "    </tr>\n",
       "    <tr>\n",
       "      <th>7</th>\n",
       "      <td>5.5</td>\n",
       "      <td>60</td>\n",
       "    </tr>\n",
       "    <tr>\n",
       "      <th>8</th>\n",
       "      <td>8.3</td>\n",
       "      <td>81</td>\n",
       "    </tr>\n",
       "    <tr>\n",
       "      <th>9</th>\n",
       "      <td>2.7</td>\n",
       "      <td>25</td>\n",
       "    </tr>\n",
       "  </tbody>\n",
       "</table>\n",
       "</div>"
      ],
      "text/plain": [
       "   Hours  Scores\n",
       "0    2.5      21\n",
       "1    5.1      47\n",
       "2    3.2      27\n",
       "3    8.5      75\n",
       "4    3.5      30\n",
       "5    1.5      20\n",
       "6    9.2      88\n",
       "7    5.5      60\n",
       "8    8.3      81\n",
       "9    2.7      25"
      ]
     },
     "execution_count": 32,
     "metadata": {},
     "output_type": "execute_result"
    }
   ],
   "source": [
    "##Using pandas to read the dataset + checking whether it displays correctly \n",
    "df = pd.read_csv(\"student_scores[1].csv\")\n",
    "df.head(10)"
   ]
  },
  {
   "cell_type": "code",
   "execution_count": 43,
   "id": "17b7b441",
   "metadata": {},
   "outputs": [
    {
     "name": "stdout",
     "output_type": "stream",
     "text": [
      "[83.18814104 27.03208774 27.03208774 69.63323162 59.95115347]\n",
      "________________________\n",
      "9     25\n",
      "13    42\n",
      "1     47\n",
      "22    35\n",
      "5     20\n",
      "2     27\n",
      "12    41\n",
      "15    95\n",
      "3     75\n",
      "4     30\n",
      "20    30\n",
      "17    24\n",
      "21    54\n",
      "18    67\n",
      "24    86\n",
      "7     60\n",
      "10    85\n",
      "14    17\n",
      "19    69\n",
      "6     88\n",
      "Name: Scores, dtype: int64\n"
     ]
    }
   ],
   "source": [
    "print(y_pred)\n",
    "print('________________________')\n",
    "print(y_train)"
   ]
  },
  {
   "cell_type": "code",
   "execution_count": 40,
   "id": "6e65cdc1",
   "metadata": {},
   "outputs": [
    {
     "name": "stdout",
     "output_type": "stream",
     "text": [
      "[83.18814104 27.03208774 27.03208774 69.63323162 59.95115347]\n",
      "________________________\n",
      "8     81\n",
      "16    30\n",
      "0     21\n",
      "23    76\n",
      "11    62\n",
      "Name: Scores, dtype: int64\n"
     ]
    }
   ],
   "source": [
    "print(y_pred)\n",
    "print('________________________')\n",
    "print(y_test)"
   ]
  },
  {
   "cell_type": "code",
   "execution_count": 41,
   "id": "322ae85a",
   "metadata": {},
   "outputs": [
    {
     "data": {
      "image/png": "[encoded data removed]",
      "text/plain": [
       "<Figure size 640x480 with 1 Axes>"
      ]
     },
     "metadata": {},
     "output_type": "display_data"
    }
   ],
   "source": [
    "#Plot for Training dataset\n",
    "plt.scatter(x_train, y_train, color='blue')\n",
    "plt.plot(x_train, model.predict(x_train), color='red')\n",
    "plt.title('Y VS X (train set)')\n",
    "plt.xlabel('X')\n",
    "plt.ylabel('Y')\n",
    "plt.show()"
   ]
  },
  {
   "cell_type": "code",
   "execution_count": 42,
   "id": "881591a0",
   "metadata": {},
   "outputs": [
    {
     "data": {
      "image/png": "[encoded data removed]",
      "text/plain": [
       "<Figure size 640x480 with 1 Axes>"
      ]
     },
     "metadata": {},
     "output_type": "display_data"
    }
   ],
   "source": [
    "plt.scatter(x_test, y_test, color='blue')\n",
    "plt.plot(x_train, model.predict(x_train), color='red')\n",
    "plt.title('Y VS X (test set)')\n",
    "plt.xlabel('X')\n",
    "plt.ylabel('Y')\n",
    "plt.show()"
   ]
  },
  {
   "cell_type": "code",
   "execution_count": null,
   "id": "5713a30c",
   "metadata": {},
   "outputs": [],
   "source": []
  }
 ],
 "metadata": {
  "kernelspec": {
   "display_name": "Python 3 (ipykernel)",
   "language": "python",
   "name": "python3"
  },
  "language_info": {
   "codemirror_mode": {
    "name": "ipython",
    "version": 3
   },
   "file_extension": ".py",
   "mimetype": "text/x-python",
   "name": "python",
   "nbconvert_exporter": "python",
   "pygments_lexer": "ipython3",
   "version": "3.11.4"
  }
 },
 "nbformat": 4,
 "nbformat_minor": 5
}
